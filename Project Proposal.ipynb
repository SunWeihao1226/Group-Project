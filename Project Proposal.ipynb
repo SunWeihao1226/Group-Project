{
 "cells": [
  {
   "cell_type": "markdown",
   "metadata": {},
   "source": [
    "# Project Proposal\n"
   ]
  },
  {
   "cell_type": "markdown",
   "metadata": {},
   "source": [
    "## Introduction\n",
    "Rice is one of the most popular grain products in the world and it plays an important role in both nutrition and cultural and regional agriculture. There are many species of rice that are grown in different countries and different species can be distinguished by many characteristics such as physical properties, cooking features, taste, and others. These characteristics are usually used for quality criteria examination or determination of various types. However, it might be inefficient to proceed using some of these characteristics. Therefore, according to many studies, physical properties are found to be useful and less time-consuming."
   ]
  },
  {
   "cell_type": "markdown",
   "metadata": {},
   "source": [
    "In our project, we will concentrate on the prediction of different rice types based on information on the appearance of the rice and its accuracy. We will focus on two rice species in Turkey—Osmancik and Cammeo—as well as several physical properties of each species. In general, these two species are distinct in shape, texture, and color. This thus poses the question:\n",
    "\n",
    "**What is the classification accuracy of using the K-Nearest Neighbors model to predict that rice is Osmancik or Cammeo?**"
   ]
  },
  {
   "cell_type": "markdown",
   "metadata": {},
   "source": [
    "We will seek to answer this question by using the Rice (Cammeo and Osmancik) Data Set. This data set includes certified rice samples in both species collected by Ilkay Cinar and Murat Koklu in Turkey. The data was obtained and calculated by taking images of the two species. It contains seven numeric variables: Area, Perimeter, Major Axis Length, Minor Axis Length, Eccentricity, Convex Area, and Extent, and one categorical variable: Class."
   ]
  },
  {
   "cell_type": "markdown",
   "metadata": {},
   "source": [
    "## Preliminary exploratory data analysis"
   ]
  },
  {
   "cell_type": "code",
   "execution_count": 5,
   "metadata": {},
   "outputs": [],
   "source": [
    "# Import packages\n",
    "library(readxl)\n",
    "library(tidyverse)\n",
    "library(repr)"
   ]
  },
  {
   "cell_type": "markdown",
   "metadata": {},
   "source": [
    "Firstly, read the data, and obtain a general glimpse on it.  "
   ]
  },
  {
   "cell_type": "code",
   "execution_count": 6,
   "metadata": {},
   "outputs": [
    {
     "data": {
      "text/html": [
       "<table>\n",
       "<caption>A tibble: 6 × 8</caption>\n",
       "<thead>\n",
       "\t<tr><th scope=col>AREA</th><th scope=col>PERIMETER</th><th scope=col>MAJORAXIS</th><th scope=col>MINORAXIS</th><th scope=col>ECCENTRICITY</th><th scope=col>CONVEX_AREA</th><th scope=col>EXTENT</th><th scope=col>CLASS</th></tr>\n",
       "\t<tr><th scope=col>&lt;dbl&gt;</th><th scope=col>&lt;dbl&gt;</th><th scope=col>&lt;dbl&gt;</th><th scope=col>&lt;dbl&gt;</th><th scope=col>&lt;dbl&gt;</th><th scope=col>&lt;dbl&gt;</th><th scope=col>&lt;dbl&gt;</th><th scope=col>&lt;chr&gt;</th></tr>\n",
       "</thead>\n",
       "<tbody>\n",
       "\t<tr><td>15231</td><td>525.579</td><td>229.7499</td><td>85.09379</td><td>0.9288820</td><td>15617</td><td>0.5728955</td><td>Cammeo</td></tr>\n",
       "\t<tr><td>14656</td><td>494.311</td><td>206.0201</td><td>91.73097</td><td>0.8954050</td><td>15072</td><td>0.6154363</td><td>Cammeo</td></tr>\n",
       "\t<tr><td>14634</td><td>501.122</td><td>214.1068</td><td>87.76829</td><td>0.9121181</td><td>14954</td><td>0.6932588</td><td>Cammeo</td></tr>\n",
       "\t<tr><td>13176</td><td>458.343</td><td>193.3374</td><td>87.44839</td><td>0.8918609</td><td>13368</td><td>0.6406690</td><td>Cammeo</td></tr>\n",
       "\t<tr><td>14688</td><td>507.167</td><td>211.7434</td><td>89.31245</td><td>0.9066909</td><td>15262</td><td>0.6460239</td><td>Cammeo</td></tr>\n",
       "\t<tr><td>13479</td><td>477.016</td><td>200.0531</td><td>86.65029</td><td>0.9013283</td><td>13786</td><td>0.6578973</td><td>Cammeo</td></tr>\n",
       "</tbody>\n",
       "</table>\n"
      ],
      "text/latex": [
       "A tibble: 6 × 8\n",
       "\\begin{tabular}{llllllll}\n",
       " AREA & PERIMETER & MAJORAXIS & MINORAXIS & ECCENTRICITY & CONVEX\\_AREA & EXTENT & CLASS\\\\\n",
       " <dbl> & <dbl> & <dbl> & <dbl> & <dbl> & <dbl> & <dbl> & <chr>\\\\\n",
       "\\hline\n",
       "\t 15231 & 525.579 & 229.7499 & 85.09379 & 0.9288820 & 15617 & 0.5728955 & Cammeo\\\\\n",
       "\t 14656 & 494.311 & 206.0201 & 91.73097 & 0.8954050 & 15072 & 0.6154363 & Cammeo\\\\\n",
       "\t 14634 & 501.122 & 214.1068 & 87.76829 & 0.9121181 & 14954 & 0.6932588 & Cammeo\\\\\n",
       "\t 13176 & 458.343 & 193.3374 & 87.44839 & 0.8918609 & 13368 & 0.6406690 & Cammeo\\\\\n",
       "\t 14688 & 507.167 & 211.7434 & 89.31245 & 0.9066909 & 15262 & 0.6460239 & Cammeo\\\\\n",
       "\t 13479 & 477.016 & 200.0531 & 86.65029 & 0.9013283 & 13786 & 0.6578973 & Cammeo\\\\\n",
       "\\end{tabular}\n"
      ],
      "text/markdown": [
       "\n",
       "A tibble: 6 × 8\n",
       "\n",
       "| AREA &lt;dbl&gt; | PERIMETER &lt;dbl&gt; | MAJORAXIS &lt;dbl&gt; | MINORAXIS &lt;dbl&gt; | ECCENTRICITY &lt;dbl&gt; | CONVEX_AREA &lt;dbl&gt; | EXTENT &lt;dbl&gt; | CLASS &lt;chr&gt; |\n",
       "|---|---|---|---|---|---|---|---|\n",
       "| 15231 | 525.579 | 229.7499 | 85.09379 | 0.9288820 | 15617 | 0.5728955 | Cammeo |\n",
       "| 14656 | 494.311 | 206.0201 | 91.73097 | 0.8954050 | 15072 | 0.6154363 | Cammeo |\n",
       "| 14634 | 501.122 | 214.1068 | 87.76829 | 0.9121181 | 14954 | 0.6932588 | Cammeo |\n",
       "| 13176 | 458.343 | 193.3374 | 87.44839 | 0.8918609 | 13368 | 0.6406690 | Cammeo |\n",
       "| 14688 | 507.167 | 211.7434 | 89.31245 | 0.9066909 | 15262 | 0.6460239 | Cammeo |\n",
       "| 13479 | 477.016 | 200.0531 | 86.65029 | 0.9013283 | 13786 | 0.6578973 | Cammeo |\n",
       "\n"
      ],
      "text/plain": [
       "  AREA  PERIMETER MAJORAXIS MINORAXIS ECCENTRICITY CONVEX_AREA EXTENT    CLASS \n",
       "1 15231 525.579   229.7499  85.09379  0.9288820    15617       0.5728955 Cammeo\n",
       "2 14656 494.311   206.0201  91.73097  0.8954050    15072       0.6154363 Cammeo\n",
       "3 14634 501.122   214.1068  87.76829  0.9121181    14954       0.6932588 Cammeo\n",
       "4 13176 458.343   193.3374  87.44839  0.8918609    13368       0.6406690 Cammeo\n",
       "5 14688 507.167   211.7434  89.31245  0.9066909    15262       0.6460239 Cammeo\n",
       "6 13479 477.016   200.0531  86.65029  0.9013283    13786       0.6578973 Cammeo"
      ]
     },
     "metadata": {},
     "output_type": "display_data"
    },
    {
     "name": "stdout",
     "output_type": "stream",
     "text": [
      "Rows: 3,810\n",
      "Columns: 8\n",
      "$ AREA         \u001b[3m\u001b[90m<dbl>\u001b[39m\u001b[23m 15231, 14656, 14634, 13176, 14688, 13479, 15757, 16405, …\n",
      "$ PERIMETER    \u001b[3m\u001b[90m<dbl>\u001b[39m\u001b[23m 525.579, 494.311, 501.122, 458.343, 507.167, 477.016, 50…\n",
      "$ MAJORAXIS    \u001b[3m\u001b[90m<dbl>\u001b[39m\u001b[23m 229.7499, 206.0201, 214.1068, 193.3374, 211.7434, 200.05…\n",
      "$ MINORAXIS    \u001b[3m\u001b[90m<dbl>\u001b[39m\u001b[23m 85.09379, 91.73097, 87.76829, 87.44839, 89.31245, 86.650…\n",
      "$ ECCENTRICITY \u001b[3m\u001b[90m<dbl>\u001b[39m\u001b[23m 0.9288820, 0.8954050, 0.9121181, 0.8918609, 0.9066909, 0…\n",
      "$ CONVEX_AREA  \u001b[3m\u001b[90m<dbl>\u001b[39m\u001b[23m 15617, 15072, 14954, 13368, 15262, 13786, 16150, 16837, …\n",
      "$ EXTENT       \u001b[3m\u001b[90m<dbl>\u001b[39m\u001b[23m 0.5728955, 0.6154363, 0.6932588, 0.6406690, 0.6460239, 0…\n",
      "$ CLASS        \u001b[3m\u001b[90m<chr>\u001b[39m\u001b[23m \"Cammeo\", \"Cammeo\", \"Cammeo\", \"Cammeo\", \"Cammeo\", \"Camme…\n"
     ]
    },
    {
     "data": {
      "text/html": [
       "FALSE"
      ],
      "text/latex": [
       "FALSE"
      ],
      "text/markdown": [
       "FALSE"
      ],
      "text/plain": [
       "[1] FALSE"
      ]
     },
     "metadata": {},
     "output_type": "display_data"
    }
   ],
   "source": [
    "rice <- read_excel(\"Rice_Osmancik_Cammeo_Dataset.xlsx\")\n",
    "head(rice)\n",
    "glimpse(rice)\n",
    "any(is.na(rice))"
   ]
  },
  {
   "cell_type": "markdown",
   "metadata": {},
   "source": [
    "It is shown that the data can be read into R, and there is no NA in the dataset.\n",
    "Additionally, the data seems to be already tidy. It fulfills the requirements that there is one observation per row, one variable per column, and one value per cell."
   ]
  },
  {
   "cell_type": "markdown",
   "metadata": {},
   "source": [
    "The next step is to split the data into training set and testing set."
   ]
  },
  {
   "cell_type": "code",
   "execution_count": null,
   "metadata": {},
   "outputs": [],
   "source": []
  }
 ],
 "metadata": {
  "kernelspec": {
   "display_name": "R",
   "language": "R",
   "name": "ir"
  },
  "language_info": {
   "codemirror_mode": "r",
   "file_extension": ".r",
   "mimetype": "text/x-r-source",
   "name": "R",
   "pygments_lexer": "r",
   "version": "4.0.0"
  }
 },
 "nbformat": 4,
 "nbformat_minor": 4
}
