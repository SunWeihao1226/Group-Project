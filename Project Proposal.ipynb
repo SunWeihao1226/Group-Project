{
 "cells": [
  {
   "cell_type": "markdown",
   "metadata": {},
   "source": [
    "# Project Proposal\n"
   ]
  },
  {
   "cell_type": "markdown",
   "metadata": {},
   "source": [
    "## Introduction\n",
    "Rice is one of the most popular grain products in the world and it plays an important role in both nutrition and cultural and regional agriculture. There are many species of rice that are grown in different countries and different species can be distinguished by many characteristics such as physical properties, cooking features, taste, and others. These characteristics are usually used for quality criteria examination or determination of various types. However, it might be inefficient to proceed using some of these characteristics. Therefore, according to many studies, physical properties are found to be useful and less time-consuming."
   ]
  },
  {
   "cell_type": "markdown",
   "metadata": {},
   "source": [
    "In our project, we will concentrate on the prediction of different rice types based on information on the appearance of the rice and its accuracy. We will focus on two rice species in Turkey—Osmancik and Cammeo—as well as several physical properties of each species. In general, these two species are distinct in shape, texture, and color. This thus poses the question:\n",
    "\n",
    "**What is the classification accuracy of using the K-Nearest Neighbors model to predict that rice is Osmancik or Cammeo?**"
   ]
  },
  {
   "cell_type": "markdown",
   "metadata": {},
   "source": [
    "We will seek to answer this question by using the Rice (Cammeo and Osmancik) Data Set. This data set includes certified rice samples in both species collected by Ilkay Cinar and Murat Koklu in Turkey. The data was obtained and calculated by taking images of the two species. It contains seven numeric variables: Area, Perimeter, Major Axis Length, Minor Axis Length, Eccentricity, Convex Area, and Extent, and one categorical variable: Class."
   ]
  },
  {
   "cell_type": "markdown",
   "metadata": {},
   "source": [
    "## Preliminary exploratory data analysis"
   ]
  },
  {
   "cell_type": "code",
   "execution_count": 2,
   "metadata": {},
   "outputs": [
    {
     "name": "stderr",
     "output_type": "stream",
     "text": [
      "── \u001b[1mAttaching packages\u001b[22m ─────────────────────────────────────── tidyverse 1.3.0 ──\n",
      "\n",
      "\u001b[32m✔\u001b[39m \u001b[34mggplot2\u001b[39m 3.3.2     \u001b[32m✔\u001b[39m \u001b[34mpurrr  \u001b[39m 0.3.4\n",
      "\u001b[32m✔\u001b[39m \u001b[34mtibble \u001b[39m 3.0.3     \u001b[32m✔\u001b[39m \u001b[34mdplyr  \u001b[39m 1.0.2\n",
      "\u001b[32m✔\u001b[39m \u001b[34mtidyr  \u001b[39m 1.1.2     \u001b[32m✔\u001b[39m \u001b[34mstringr\u001b[39m 1.4.0\n",
      "\u001b[32m✔\u001b[39m \u001b[34mreadr  \u001b[39m 1.3.1     \u001b[32m✔\u001b[39m \u001b[34mforcats\u001b[39m 0.5.0\n",
      "\n",
      "Warning message:\n",
      "“package ‘ggplot2’ was built under R version 4.0.1”\n",
      "Warning message:\n",
      "“package ‘tibble’ was built under R version 4.0.2”\n",
      "Warning message:\n",
      "“package ‘tidyr’ was built under R version 4.0.2”\n",
      "Warning message:\n",
      "“package ‘dplyr’ was built under R version 4.0.2”\n",
      "── \u001b[1mConflicts\u001b[22m ────────────────────────────────────────── tidyverse_conflicts() ──\n",
      "\u001b[31m✖\u001b[39m \u001b[34mdplyr\u001b[39m::\u001b[32mfilter()\u001b[39m masks \u001b[34mstats\u001b[39m::filter()\n",
      "\u001b[31m✖\u001b[39m \u001b[34mdplyr\u001b[39m::\u001b[32mlag()\u001b[39m    masks \u001b[34mstats\u001b[39m::lag()\n",
      "\n",
      "Warning message:\n",
      "“package ‘tidymodels’ was built under R version 4.0.2”\n",
      "── \u001b[1mAttaching packages\u001b[22m ────────────────────────────────────── tidymodels 0.1.1 ──\n",
      "\n",
      "\u001b[32m✔\u001b[39m \u001b[34mbroom    \u001b[39m 0.7.0      \u001b[32m✔\u001b[39m \u001b[34mrecipes  \u001b[39m 0.1.13\n",
      "\u001b[32m✔\u001b[39m \u001b[34mdials    \u001b[39m 0.0.9      \u001b[32m✔\u001b[39m \u001b[34mrsample  \u001b[39m 0.0.7 \n",
      "\u001b[32m✔\u001b[39m \u001b[34minfer    \u001b[39m 0.5.4      \u001b[32m✔\u001b[39m \u001b[34mtune     \u001b[39m 0.1.1 \n",
      "\u001b[32m✔\u001b[39m \u001b[34mmodeldata\u001b[39m 0.0.2      \u001b[32m✔\u001b[39m \u001b[34mworkflows\u001b[39m 0.2.0 \n",
      "\u001b[32m✔\u001b[39m \u001b[34mparsnip  \u001b[39m 0.1.3      \u001b[32m✔\u001b[39m \u001b[34myardstick\u001b[39m 0.0.7 \n",
      "\n",
      "Warning message:\n",
      "“package ‘broom’ was built under R version 4.0.2”\n",
      "Warning message:\n",
      "“package ‘dials’ was built under R version 4.0.2”\n",
      "Warning message:\n",
      "“package ‘infer’ was built under R version 4.0.3”\n",
      "Warning message:\n",
      "“package ‘modeldata’ was built under R version 4.0.1”\n",
      "Warning message:\n",
      "“package ‘parsnip’ was built under R version 4.0.2”\n",
      "Warning message:\n",
      "“package ‘recipes’ was built under R version 4.0.1”\n",
      "Warning message:\n",
      "“package ‘tune’ was built under R version 4.0.2”\n",
      "Warning message:\n",
      "“package ‘workflows’ was built under R version 4.0.2”\n",
      "Warning message:\n",
      "“package ‘yardstick’ was built under R version 4.0.2”\n",
      "── \u001b[1mConflicts\u001b[22m ───────────────────────────────────────── tidymodels_conflicts() ──\n",
      "\u001b[31m✖\u001b[39m \u001b[34mscales\u001b[39m::\u001b[32mdiscard()\u001b[39m masks \u001b[34mpurrr\u001b[39m::discard()\n",
      "\u001b[31m✖\u001b[39m \u001b[34mdplyr\u001b[39m::\u001b[32mfilter()\u001b[39m   masks \u001b[34mstats\u001b[39m::filter()\n",
      "\u001b[31m✖\u001b[39m \u001b[34mrecipes\u001b[39m::\u001b[32mfixed()\u001b[39m  masks \u001b[34mstringr\u001b[39m::fixed()\n",
      "\u001b[31m✖\u001b[39m \u001b[34mdplyr\u001b[39m::\u001b[32mlag()\u001b[39m      masks \u001b[34mstats\u001b[39m::lag()\n",
      "\u001b[31m✖\u001b[39m \u001b[34myardstick\u001b[39m::\u001b[32mspec()\u001b[39m masks \u001b[34mreadr\u001b[39m::spec()\n",
      "\u001b[31m✖\u001b[39m \u001b[34mrecipes\u001b[39m::\u001b[32mstep()\u001b[39m   masks \u001b[34mstats\u001b[39m::step()\n",
      "\n"
     ]
    }
   ],
   "source": [
    "# Import packages\n",
    "library(readxl)\n",
    "library(tidyverse)\n",
    "library(repr)\n",
    "library(tidymodels)"
   ]
  },
  {
   "cell_type": "markdown",
   "metadata": {},
   "source": [
    "Firstly, read the data, and obtain a general glimpse on it.  "
   ]
  },
  {
   "cell_type": "code",
   "execution_count": 4,
   "metadata": {},
   "outputs": [
    {
     "data": {
      "text/html": [
       "<table>\n",
       "<caption>A tibble: 6 × 8</caption>\n",
       "<thead>\n",
       "\t<tr><th scope=col>AREA</th><th scope=col>PERIMETER</th><th scope=col>MAJORAXIS</th><th scope=col>MINORAXIS</th><th scope=col>ECCENTRICITY</th><th scope=col>CONVEX_AREA</th><th scope=col>EXTENT</th><th scope=col>CLASS</th></tr>\n",
       "\t<tr><th scope=col>&lt;dbl&gt;</th><th scope=col>&lt;dbl&gt;</th><th scope=col>&lt;dbl&gt;</th><th scope=col>&lt;dbl&gt;</th><th scope=col>&lt;dbl&gt;</th><th scope=col>&lt;dbl&gt;</th><th scope=col>&lt;dbl&gt;</th><th scope=col>&lt;chr&gt;</th></tr>\n",
       "</thead>\n",
       "<tbody>\n",
       "\t<tr><td>15231</td><td>525.579</td><td>229.7499</td><td>85.09379</td><td>0.9288820</td><td>15617</td><td>0.5728955</td><td>Cammeo</td></tr>\n",
       "\t<tr><td>14656</td><td>494.311</td><td>206.0201</td><td>91.73097</td><td>0.8954050</td><td>15072</td><td>0.6154363</td><td>Cammeo</td></tr>\n",
       "\t<tr><td>14634</td><td>501.122</td><td>214.1068</td><td>87.76829</td><td>0.9121181</td><td>14954</td><td>0.6932588</td><td>Cammeo</td></tr>\n",
       "\t<tr><td>13176</td><td>458.343</td><td>193.3374</td><td>87.44839</td><td>0.8918609</td><td>13368</td><td>0.6406690</td><td>Cammeo</td></tr>\n",
       "\t<tr><td>14688</td><td>507.167</td><td>211.7434</td><td>89.31245</td><td>0.9066909</td><td>15262</td><td>0.6460239</td><td>Cammeo</td></tr>\n",
       "\t<tr><td>13479</td><td>477.016</td><td>200.0531</td><td>86.65029</td><td>0.9013283</td><td>13786</td><td>0.6578973</td><td>Cammeo</td></tr>\n",
       "</tbody>\n",
       "</table>\n"
      ],
      "text/latex": [
       "A tibble: 6 × 8\n",
       "\\begin{tabular}{llllllll}\n",
       " AREA & PERIMETER & MAJORAXIS & MINORAXIS & ECCENTRICITY & CONVEX\\_AREA & EXTENT & CLASS\\\\\n",
       " <dbl> & <dbl> & <dbl> & <dbl> & <dbl> & <dbl> & <dbl> & <chr>\\\\\n",
       "\\hline\n",
       "\t 15231 & 525.579 & 229.7499 & 85.09379 & 0.9288820 & 15617 & 0.5728955 & Cammeo\\\\\n",
       "\t 14656 & 494.311 & 206.0201 & 91.73097 & 0.8954050 & 15072 & 0.6154363 & Cammeo\\\\\n",
       "\t 14634 & 501.122 & 214.1068 & 87.76829 & 0.9121181 & 14954 & 0.6932588 & Cammeo\\\\\n",
       "\t 13176 & 458.343 & 193.3374 & 87.44839 & 0.8918609 & 13368 & 0.6406690 & Cammeo\\\\\n",
       "\t 14688 & 507.167 & 211.7434 & 89.31245 & 0.9066909 & 15262 & 0.6460239 & Cammeo\\\\\n",
       "\t 13479 & 477.016 & 200.0531 & 86.65029 & 0.9013283 & 13786 & 0.6578973 & Cammeo\\\\\n",
       "\\end{tabular}\n"
      ],
      "text/markdown": [
       "\n",
       "A tibble: 6 × 8\n",
       "\n",
       "| AREA &lt;dbl&gt; | PERIMETER &lt;dbl&gt; | MAJORAXIS &lt;dbl&gt; | MINORAXIS &lt;dbl&gt; | ECCENTRICITY &lt;dbl&gt; | CONVEX_AREA &lt;dbl&gt; | EXTENT &lt;dbl&gt; | CLASS &lt;chr&gt; |\n",
       "|---|---|---|---|---|---|---|---|\n",
       "| 15231 | 525.579 | 229.7499 | 85.09379 | 0.9288820 | 15617 | 0.5728955 | Cammeo |\n",
       "| 14656 | 494.311 | 206.0201 | 91.73097 | 0.8954050 | 15072 | 0.6154363 | Cammeo |\n",
       "| 14634 | 501.122 | 214.1068 | 87.76829 | 0.9121181 | 14954 | 0.6932588 | Cammeo |\n",
       "| 13176 | 458.343 | 193.3374 | 87.44839 | 0.8918609 | 13368 | 0.6406690 | Cammeo |\n",
       "| 14688 | 507.167 | 211.7434 | 89.31245 | 0.9066909 | 15262 | 0.6460239 | Cammeo |\n",
       "| 13479 | 477.016 | 200.0531 | 86.65029 | 0.9013283 | 13786 | 0.6578973 | Cammeo |\n",
       "\n"
      ],
      "text/plain": [
       "  AREA  PERIMETER MAJORAXIS MINORAXIS ECCENTRICITY CONVEX_AREA EXTENT    CLASS \n",
       "1 15231 525.579   229.7499  85.09379  0.9288820    15617       0.5728955 Cammeo\n",
       "2 14656 494.311   206.0201  91.73097  0.8954050    15072       0.6154363 Cammeo\n",
       "3 14634 501.122   214.1068  87.76829  0.9121181    14954       0.6932588 Cammeo\n",
       "4 13176 458.343   193.3374  87.44839  0.8918609    13368       0.6406690 Cammeo\n",
       "5 14688 507.167   211.7434  89.31245  0.9066909    15262       0.6460239 Cammeo\n",
       "6 13479 477.016   200.0531  86.65029  0.9013283    13786       0.6578973 Cammeo"
      ]
     },
     "metadata": {},
     "output_type": "display_data"
    },
    {
     "name": "stdout",
     "output_type": "stream",
     "text": [
      "Rows: 3,810\n",
      "Columns: 8\n",
      "$ AREA         \u001b[3m\u001b[90m<dbl>\u001b[39m\u001b[23m 15231, 14656, 14634, 13176, 14688, 13479, 15757, 16405, …\n",
      "$ PERIMETER    \u001b[3m\u001b[90m<dbl>\u001b[39m\u001b[23m 525.579, 494.311, 501.122, 458.343, 507.167, 477.016, 50…\n",
      "$ MAJORAXIS    \u001b[3m\u001b[90m<dbl>\u001b[39m\u001b[23m 229.7499, 206.0201, 214.1068, 193.3374, 211.7434, 200.05…\n",
      "$ MINORAXIS    \u001b[3m\u001b[90m<dbl>\u001b[39m\u001b[23m 85.09379, 91.73097, 87.76829, 87.44839, 89.31245, 86.650…\n",
      "$ ECCENTRICITY \u001b[3m\u001b[90m<dbl>\u001b[39m\u001b[23m 0.9288820, 0.8954050, 0.9121181, 0.8918609, 0.9066909, 0…\n",
      "$ CONVEX_AREA  \u001b[3m\u001b[90m<dbl>\u001b[39m\u001b[23m 15617, 15072, 14954, 13368, 15262, 13786, 16150, 16837, …\n",
      "$ EXTENT       \u001b[3m\u001b[90m<dbl>\u001b[39m\u001b[23m 0.5728955, 0.6154363, 0.6932588, 0.6406690, 0.6460239, 0…\n",
      "$ CLASS        \u001b[3m\u001b[90m<chr>\u001b[39m\u001b[23m \"Cammeo\", \"Cammeo\", \"Cammeo\", \"Cammeo\", \"Cammeo\", \"Camme…\n"
     ]
    },
    {
     "data": {
      "text/html": [
       "FALSE"
      ],
      "text/latex": [
       "FALSE"
      ],
      "text/markdown": [
       "FALSE"
      ],
      "text/plain": [
       "[1] FALSE"
      ]
     },
     "metadata": {},
     "output_type": "display_data"
    }
   ],
   "source": [
    "rice <- read_excel(\"Rice_Osmancik_Cammeo_Dataset.xlsx\")\n",
    "head(rice)\n",
    "glimpse(rice)\n",
    "any(is.na(rice))"
   ]
  },
  {
   "cell_type": "markdown",
   "metadata": {},
   "source": [
    "It is shown that the data can be read into R, and there is no NA in the dataset.\n",
    "Additionally, the data seems to be already tidy. It fulfills the requirements that there is one observation per row, one variable per column, and one value per cell."
   ]
  },
  {
   "cell_type": "markdown",
   "metadata": {},
   "source": [
    "The next step is to split the data into training set and testing set."
   ]
  },
  {
   "cell_type": "code",
   "execution_count": 6,
   "metadata": {},
   "outputs": [],
   "source": [
    "set.seed(1)\n",
    "rice_split <- initial_split(rice, prop = 0.75, strata = CLASS)\n",
    "rice_train <- training(rice_split)\n",
    "rice_test <- testing(rice_split)"
   ]
  },
  {
   "cell_type": "markdown",
   "metadata": {},
   "source": [
    "In addition, we will make a summary of the training set before explore it further more."
   ]
  },
  {
   "cell_type": "code",
   "execution_count": 13,
   "metadata": {},
   "outputs": [
    {
     "name": "stderr",
     "output_type": "stream",
     "text": [
      "`summarise()` ungrouping output (override with `.groups` argument)\n",
      "\n"
     ]
    },
    {
     "data": {
      "text/html": [
       "<table>\n",
       "<caption>A tibble: 2 × 8</caption>\n",
       "<thead>\n",
       "\t<tr><th scope=col>CLASS</th><th scope=col>n</th><th scope=col>mean_area</th><th scope=col>mean_perimeter</th><th scope=col>mean_majoraxis</th><th scope=col>mean_eccentricity</th><th scope=col>mean_convex_area</th><th scope=col>mean_extent</th></tr>\n",
       "\t<tr><th scope=col>&lt;chr&gt;</th><th scope=col>&lt;int&gt;</th><th scope=col>&lt;dbl&gt;</th><th scope=col>&lt;dbl&gt;</th><th scope=col>&lt;dbl&gt;</th><th scope=col>&lt;dbl&gt;</th><th scope=col>&lt;dbl&gt;</th><th scope=col>&lt;dbl&gt;</th></tr>\n",
       "</thead>\n",
       "<tbody>\n",
       "\t<tr><td>Cammeo  </td><td>1223</td><td>14154.65</td><td>487.2135</td><td>205.3067</td><td>0.900838</td><td>14487.39</td><td>0.6511316</td></tr>\n",
       "\t<tr><td>Osmancik</td><td>1635</td><td>11535.21</td><td>429.1657</td><td>176.2292</td><td>0.876432</td><td>11784.54</td><td>0.6702400</td></tr>\n",
       "</tbody>\n",
       "</table>\n"
      ],
      "text/latex": [
       "A tibble: 2 × 8\n",
       "\\begin{tabular}{llllllll}\n",
       " CLASS & n & mean\\_area & mean\\_perimeter & mean\\_majoraxis & mean\\_eccentricity & mean\\_convex\\_area & mean\\_extent\\\\\n",
       " <chr> & <int> & <dbl> & <dbl> & <dbl> & <dbl> & <dbl> & <dbl>\\\\\n",
       "\\hline\n",
       "\t Cammeo   & 1223 & 14154.65 & 487.2135 & 205.3067 & 0.900838 & 14487.39 & 0.6511316\\\\\n",
       "\t Osmancik & 1635 & 11535.21 & 429.1657 & 176.2292 & 0.876432 & 11784.54 & 0.6702400\\\\\n",
       "\\end{tabular}\n"
      ],
      "text/markdown": [
       "\n",
       "A tibble: 2 × 8\n",
       "\n",
       "| CLASS &lt;chr&gt; | n &lt;int&gt; | mean_area &lt;dbl&gt; | mean_perimeter &lt;dbl&gt; | mean_majoraxis &lt;dbl&gt; | mean_eccentricity &lt;dbl&gt; | mean_convex_area &lt;dbl&gt; | mean_extent &lt;dbl&gt; |\n",
       "|---|---|---|---|---|---|---|---|\n",
       "| Cammeo   | 1223 | 14154.65 | 487.2135 | 205.3067 | 0.900838 | 14487.39 | 0.6511316 |\n",
       "| Osmancik | 1635 | 11535.21 | 429.1657 | 176.2292 | 0.876432 | 11784.54 | 0.6702400 |\n",
       "\n"
      ],
      "text/plain": [
       "  CLASS    n    mean_area mean_perimeter mean_majoraxis mean_eccentricity\n",
       "1 Cammeo   1223 14154.65  487.2135       205.3067       0.900838         \n",
       "2 Osmancik 1635 11535.21  429.1657       176.2292       0.876432         \n",
       "  mean_convex_area mean_extent\n",
       "1 14487.39         0.6511316  \n",
       "2 11784.54         0.6702400  "
      ]
     },
     "metadata": {},
     "output_type": "display_data"
    }
   ],
   "source": [
    "rice_train_summary <- rice_train %>%\n",
    "    group_by(CLASS) %>%\n",
    "    summarize(n = n(), mean_area = mean(AREA), mean_perimeter = mean(PERIMETER), \n",
    "              mean_majoraxis = mean(MAJORAXIS), mean_eccentricity = mean(ECCENTRICITY), \n",
    "              mean_convex_area = mean(CONVEX_AREA), mean_extent = mean(EXTENT))\n",
    "rice_train_summary"
   ]
  },
  {
   "cell_type": "code",
   "execution_count": null,
   "metadata": {},
   "outputs": [],
   "source": []
  }
 ],
 "metadata": {
  "kernelspec": {
   "display_name": "R",
   "language": "R",
   "name": "ir"
  },
  "language_info": {
   "codemirror_mode": "r",
   "file_extension": ".r",
   "mimetype": "text/x-r-source",
   "name": "R",
   "pygments_lexer": "r",
   "version": "4.0.0"
  }
 },
 "nbformat": 4,
 "nbformat_minor": 4
}
