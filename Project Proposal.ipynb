{
 "cells": [
  {
   "cell_type": "markdown",
   "metadata": {},
   "source": [
    "# Project Proposal\n"
   ]
  },
  {
   "cell_type": "markdown",
   "metadata": {},
   "source": [
    "## Introduction\n",
    "Rice is one of the most popular grain products in the world and it plays an important role in both nutrition and cultural and regional agriculture. There are many species of rice that are grown in different countries and different species can be distinguished by many characteristics such as physical properties, cooking features, taste, and others. These characteristics are usually used for quality criteria examination or determination of various types. However, it might be inefficient to proceed using some of these characteristics. Therefore, according to many studies, physical properties are found to be useful and less time-consuming."
   ]
  },
  {
   "cell_type": "markdown",
   "metadata": {},
   "source": [
    "In our project, we will concentrate on the prediction of different rice types based on information on the appearance of the rice and its accuracy. We will focus on two rice species in Turkey—Osmancik and Cammeo—as well as several physical properties of each species. In general, these two species are distinct in shape, texture, and color. This thus poses the question:\n",
    "\n",
    "**What is the classification accuracy of using the K-Nearest Neighbors model to predict that rice is Osmancik or Cammeo?**"
   ]
  },
  {
   "cell_type": "markdown",
   "metadata": {},
   "source": [
    "We will seek to answer this question by using the Rice (Cammeo and Osmancik) Data Set. This data set includes certified rice samples in both species collected by Ilkay Cinar and Murat Koklu in Turkey. The data was obtained and calculated by taking images of the two species. It contains seven numeric variables: Area, Perimeter, Major Axis Length, Minor Axis Length, Eccentricity, Convex Area, and Extent, and one categorical variable: Class."
   ]
  },
  {
   "cell_type": "markdown",
   "metadata": {},
   "source": [
    "## Preliminary exploratory data analysis"
   ]
  },
  {
   "cell_type": "code",
   "execution_count": 77,
   "metadata": {},
   "outputs": [],
   "source": [
    "# Import packages\n",
    "library(readxl)\n",
    "library(tidyverse)\n",
    "library(repr)\n",
    "library(tidymodels)"
   ]
  },
  {
   "cell_type": "markdown",
   "metadata": {},
   "source": [
    "Firstly, read the data, and obtain a general glimpse on it."
   ]
  },
  {
   "cell_type": "code",
   "execution_count": 78,
   "metadata": {},
   "outputs": [
    {
     "data": {
      "text/html": [
       "<table>\n",
       "<caption>A tibble: 6 × 8</caption>\n",
       "<thead>\n",
       "\t<tr><th scope=col>AREA</th><th scope=col>PERIMETER</th><th scope=col>MAJORAXIS</th><th scope=col>MINORAXIS</th><th scope=col>ECCENTRICITY</th><th scope=col>CONVEX_AREA</th><th scope=col>EXTENT</th><th scope=col>CLASS</th></tr>\n",
       "\t<tr><th scope=col>&lt;dbl&gt;</th><th scope=col>&lt;dbl&gt;</th><th scope=col>&lt;dbl&gt;</th><th scope=col>&lt;dbl&gt;</th><th scope=col>&lt;dbl&gt;</th><th scope=col>&lt;dbl&gt;</th><th scope=col>&lt;dbl&gt;</th><th scope=col>&lt;fct&gt;</th></tr>\n",
       "</thead>\n",
       "<tbody>\n",
       "\t<tr><td>15231</td><td>525.579</td><td>229.7499</td><td>85.09379</td><td>0.9288820</td><td>15617</td><td>0.5728955</td><td>Cammeo</td></tr>\n",
       "\t<tr><td>14656</td><td>494.311</td><td>206.0201</td><td>91.73097</td><td>0.8954050</td><td>15072</td><td>0.6154363</td><td>Cammeo</td></tr>\n",
       "\t<tr><td>14634</td><td>501.122</td><td>214.1068</td><td>87.76829</td><td>0.9121181</td><td>14954</td><td>0.6932588</td><td>Cammeo</td></tr>\n",
       "\t<tr><td>13176</td><td>458.343</td><td>193.3374</td><td>87.44839</td><td>0.8918609</td><td>13368</td><td>0.6406690</td><td>Cammeo</td></tr>\n",
       "\t<tr><td>14688</td><td>507.167</td><td>211.7434</td><td>89.31245</td><td>0.9066909</td><td>15262</td><td>0.6460239</td><td>Cammeo</td></tr>\n",
       "\t<tr><td>13479</td><td>477.016</td><td>200.0531</td><td>86.65029</td><td>0.9013283</td><td>13786</td><td>0.6578973</td><td>Cammeo</td></tr>\n",
       "</tbody>\n",
       "</table>\n"
      ],
      "text/latex": [
       "A tibble: 6 × 8\n",
       "\\begin{tabular}{llllllll}\n",
       " AREA & PERIMETER & MAJORAXIS & MINORAXIS & ECCENTRICITY & CONVEX\\_AREA & EXTENT & CLASS\\\\\n",
       " <dbl> & <dbl> & <dbl> & <dbl> & <dbl> & <dbl> & <dbl> & <fct>\\\\\n",
       "\\hline\n",
       "\t 15231 & 525.579 & 229.7499 & 85.09379 & 0.9288820 & 15617 & 0.5728955 & Cammeo\\\\\n",
       "\t 14656 & 494.311 & 206.0201 & 91.73097 & 0.8954050 & 15072 & 0.6154363 & Cammeo\\\\\n",
       "\t 14634 & 501.122 & 214.1068 & 87.76829 & 0.9121181 & 14954 & 0.6932588 & Cammeo\\\\\n",
       "\t 13176 & 458.343 & 193.3374 & 87.44839 & 0.8918609 & 13368 & 0.6406690 & Cammeo\\\\\n",
       "\t 14688 & 507.167 & 211.7434 & 89.31245 & 0.9066909 & 15262 & 0.6460239 & Cammeo\\\\\n",
       "\t 13479 & 477.016 & 200.0531 & 86.65029 & 0.9013283 & 13786 & 0.6578973 & Cammeo\\\\\n",
       "\\end{tabular}\n"
      ],
      "text/markdown": [
       "\n",
       "A tibble: 6 × 8\n",
       "\n",
       "| AREA &lt;dbl&gt; | PERIMETER &lt;dbl&gt; | MAJORAXIS &lt;dbl&gt; | MINORAXIS &lt;dbl&gt; | ECCENTRICITY &lt;dbl&gt; | CONVEX_AREA &lt;dbl&gt; | EXTENT &lt;dbl&gt; | CLASS &lt;fct&gt; |\n",
       "|---|---|---|---|---|---|---|---|\n",
       "| 15231 | 525.579 | 229.7499 | 85.09379 | 0.9288820 | 15617 | 0.5728955 | Cammeo |\n",
       "| 14656 | 494.311 | 206.0201 | 91.73097 | 0.8954050 | 15072 | 0.6154363 | Cammeo |\n",
       "| 14634 | 501.122 | 214.1068 | 87.76829 | 0.9121181 | 14954 | 0.6932588 | Cammeo |\n",
       "| 13176 | 458.343 | 193.3374 | 87.44839 | 0.8918609 | 13368 | 0.6406690 | Cammeo |\n",
       "| 14688 | 507.167 | 211.7434 | 89.31245 | 0.9066909 | 15262 | 0.6460239 | Cammeo |\n",
       "| 13479 | 477.016 | 200.0531 | 86.65029 | 0.9013283 | 13786 | 0.6578973 | Cammeo |\n",
       "\n"
      ],
      "text/plain": [
       "  AREA  PERIMETER MAJORAXIS MINORAXIS ECCENTRICITY CONVEX_AREA EXTENT    CLASS \n",
       "1 15231 525.579   229.7499  85.09379  0.9288820    15617       0.5728955 Cammeo\n",
       "2 14656 494.311   206.0201  91.73097  0.8954050    15072       0.6154363 Cammeo\n",
       "3 14634 501.122   214.1068  87.76829  0.9121181    14954       0.6932588 Cammeo\n",
       "4 13176 458.343   193.3374  87.44839  0.8918609    13368       0.6406690 Cammeo\n",
       "5 14688 507.167   211.7434  89.31245  0.9066909    15262       0.6460239 Cammeo\n",
       "6 13479 477.016   200.0531  86.65029  0.9013283    13786       0.6578973 Cammeo"
      ]
     },
     "metadata": {},
     "output_type": "display_data"
    },
    {
     "name": "stdout",
     "output_type": "stream",
     "text": [
      "Rows: 3,810\n",
      "Columns: 8\n",
      "$ AREA         \u001b[3m\u001b[90m<dbl>\u001b[39m\u001b[23m 15231, 14656, 14634, 13176, 14688, 13479, 15757, 16405, …\n",
      "$ PERIMETER    \u001b[3m\u001b[90m<dbl>\u001b[39m\u001b[23m 525.579, 494.311, 501.122, 458.343, 507.167, 477.016, 50…\n",
      "$ MAJORAXIS    \u001b[3m\u001b[90m<dbl>\u001b[39m\u001b[23m 229.7499, 206.0201, 214.1068, 193.3374, 211.7434, 200.05…\n",
      "$ MINORAXIS    \u001b[3m\u001b[90m<dbl>\u001b[39m\u001b[23m 85.09379, 91.73097, 87.76829, 87.44839, 89.31245, 86.650…\n",
      "$ ECCENTRICITY \u001b[3m\u001b[90m<dbl>\u001b[39m\u001b[23m 0.9288820, 0.8954050, 0.9121181, 0.8918609, 0.9066909, 0…\n",
      "$ CONVEX_AREA  \u001b[3m\u001b[90m<dbl>\u001b[39m\u001b[23m 15617, 15072, 14954, 13368, 15262, 13786, 16150, 16837, …\n",
      "$ EXTENT       \u001b[3m\u001b[90m<dbl>\u001b[39m\u001b[23m 0.5728955, 0.6154363, 0.6932588, 0.6406690, 0.6460239, 0…\n",
      "$ CLASS        \u001b[3m\u001b[90m<fct>\u001b[39m\u001b[23m Cammeo, Cammeo, Cammeo, Cammeo, Cammeo, Cammeo, Cammeo, …\n"
     ]
    },
    {
     "data": {
      "text/html": [
       "FALSE"
      ],
      "text/latex": [
       "FALSE"
      ],
      "text/markdown": [
       "FALSE"
      ],
      "text/plain": [
       "[1] FALSE"
      ]
     },
     "metadata": {},
     "output_type": "display_data"
    }
   ],
   "source": [
    "rice <- read_excel(\"Rice_Osmancik_Cammeo_Dataset.xlsx\") %>%\n",
    "mutate(CLASS = as_factor(CLASS))\n",
    "head(rice)\n",
    "glimpse(rice)\n",
    "any(is.na(rice))\n",
    "seed <- 1"
   ]
  },
  {
   "cell_type": "markdown",
   "metadata": {},
   "source": [
    "It is shown that the data can be read into R, and there is no NA in the dataset.\n",
    "Additionally, the data seems to be already tidy. It fulfills the requirements that there is one observation per row, one variable per column, and one value per cell."
   ]
  },
  {
   "cell_type": "code",
   "execution_count": 79,
   "metadata": {},
   "outputs": [],
   "source": [
    "set.seed(seed) \n",
    "\n",
    "# your code here\n",
    "rice_split <- initial_split(rice, prop = 0.75, strata = CLASS)  \n",
    "rice_train <- training(rice_split)   \n",
    "rice_test <- testing(rice_split)"
   ]
  },
  {
   "cell_type": "code",
   "execution_count": 80,
   "metadata": {},
   "outputs": [
    {
     "data": {
      "text/plain": [
       "Data Recipe\n",
       "\n",
       "Inputs:\n",
       "\n",
       "      role #variables\n",
       "   outcome          1\n",
       " predictor          4\n",
       "\n",
       "Operations:\n",
       "\n",
       "Scaling for all_predictors()\n",
       "Centering for all_predictors()"
      ]
     },
     "metadata": {},
     "output_type": "display_data"
    }
   ],
   "source": [
    "set.seed(seed)\n",
    "\n",
    "rice_recipe <- recipe(CLASS ~ AREA + PERIMETER + MAJORAXIS + CONVEX_AREA, data = rice_train) %>%\n",
    "    step_scale(all_predictors()) %>%\n",
    "    step_center(all_predictors())\n",
    "rice_recipe"
   ]
  },
  {
   "cell_type": "code",
   "execution_count": 81,
   "metadata": {},
   "outputs": [
    {
     "data": {
      "text/plain": [
       "K-Nearest Neighbor Model Specification (classification)\n",
       "\n",
       "Main Arguments:\n",
       "  neighbors = tune()\n",
       "  weight_func = rectangular\n",
       "\n",
       "Computational engine: kknn \n"
      ]
     },
     "metadata": {},
     "output_type": "display_data"
    }
   ],
   "source": [
    "set.seed(seed)\n",
    "\n",
    "knn_tune <- nearest_neighbor(weight_func = \"rectangular\", neighbors = tune()) %>%\n",
    "       set_engine(\"kknn\") %>%\n",
    "       set_mode(\"classification\")\n",
    "knn_tune\n",
    "\n",
    "rice_vfold <- vfold_cv(rice_train, v = 5, strata = CLASS)"
   ]
  },
  {
   "cell_type": "code",
   "execution_count": 82,
   "metadata": {},
   "outputs": [
    {
     "data": {
      "image/png": "[encoded data removed]",
      "text/plain": [
       "plot without title"
      ]
     },
     "metadata": {
      "image/png": {
       "height": 720,
       "width": 720
      }
     },
     "output_type": "display_data"
    }
   ],
   "source": [
    "set.seed(seed) \n",
    "\n",
    "knn_results <- workflow() %>%\n",
    "       add_recipe(rice_recipe) %>%\n",
    "       add_model(knn_tune) %>%\n",
    "       tune_grid(resamples = rice_vfold, grid = 10) %>%\n",
    "       collect_metrics()\n",
    "\n",
    "accuracies <- knn_results %>% \n",
    "       filter(.metric == \"accuracy\")\n",
    "\n",
    "accuracy_versus_k <- ggplot(accuracies, aes(x = neighbors, y = mean))+\n",
    "       geom_point() +\n",
    "       geom_line() +\n",
    "       labs(x = \"Neighbors\", y = \"Accuracy Estimate\") +\n",
    "       scale_x_continuous(breaks = seq(0, 14, by = 1)) + \n",
    "       scale_y_continuous(limits = c(0.8, 1.0))\n",
    "accuracy_versus_k"
   ]
  },
  {
   "cell_type": "markdown",
   "metadata": {},
   "source": [
    "K = 12 seems to have the highest accuracy."
   ]
  },
  {
   "cell_type": "code",
   "execution_count": 83,
   "metadata": {},
   "outputs": [
    {
     "data": {
      "text/html": [
       "<table>\n",
       "<caption>A tibble: 952 × 9</caption>\n",
       "<thead>\n",
       "\t<tr><th scope=col>.pred_class</th><th scope=col>AREA</th><th scope=col>PERIMETER</th><th scope=col>MAJORAXIS</th><th scope=col>MINORAXIS</th><th scope=col>ECCENTRICITY</th><th scope=col>CONVEX_AREA</th><th scope=col>EXTENT</th><th scope=col>CLASS</th></tr>\n",
       "\t<tr><th scope=col>&lt;fct&gt;</th><th scope=col>&lt;dbl&gt;</th><th scope=col>&lt;dbl&gt;</th><th scope=col>&lt;dbl&gt;</th><th scope=col>&lt;dbl&gt;</th><th scope=col>&lt;dbl&gt;</th><th scope=col>&lt;dbl&gt;</th><th scope=col>&lt;dbl&gt;</th><th scope=col>&lt;fct&gt;</th></tr>\n",
       "</thead>\n",
       "<tbody>\n",
       "\t<tr><td>Cammeo  </td><td>14688</td><td>507.167</td><td>211.7434</td><td> 89.31245</td><td>0.9066909</td><td>15262</td><td>0.6460239</td><td>Cammeo</td></tr>\n",
       "\t<tr><td>Cammeo  </td><td>13500</td><td>476.915</td><td>202.5467</td><td> 85.40547</td><td>0.9067549</td><td>13800</td><td>0.7177033</td><td>Cammeo</td></tr>\n",
       "\t<tr><td>Cammeo  </td><td>13509</td><td>480.466</td><td>207.1372</td><td> 83.94016</td><td>0.9142106</td><td>13732</td><td>0.5956349</td><td>Cammeo</td></tr>\n",
       "\t<tr><td>Cammeo  </td><td>13699</td><td>480.729</td><td>197.9709</td><td> 89.94907</td><td>0.8908207</td><td>14178</td><td>0.6720467</td><td>Cammeo</td></tr>\n",
       "\t<tr><td>Cammeo  </td><td>14405</td><td>488.237</td><td>204.4301</td><td> 90.62646</td><td>0.8963671</td><td>14742</td><td>0.7637858</td><td>Cammeo</td></tr>\n",
       "\t<tr><td>Cammeo  </td><td>13328</td><td>473.044</td><td>201.3989</td><td> 85.25861</td><td>0.9059746</td><td>13588</td><td>0.7800995</td><td>Cammeo</td></tr>\n",
       "\t<tr><td>Cammeo  </td><td>13130</td><td>467.922</td><td>196.1468</td><td> 86.20712</td><td>0.8982411</td><td>13462</td><td>0.5748183</td><td>Cammeo</td></tr>\n",
       "\t<tr><td>Cammeo  </td><td>16104</td><td>507.429</td><td>206.0707</td><td>100.75363</td><td>0.8723245</td><td>16457</td><td>0.6054136</td><td>Cammeo</td></tr>\n",
       "\t<tr><td>Cammeo  </td><td>14415</td><td>488.122</td><td>203.5928</td><td> 91.03473</td><td>0.8944634</td><td>14758</td><td>0.6741021</td><td>Cammeo</td></tr>\n",
       "\t<tr><td>Cammeo  </td><td>14524</td><td>480.212</td><td>199.9330</td><td> 93.31210</td><td>0.8844068</td><td>14808</td><td>0.6112795</td><td>Cammeo</td></tr>\n",
       "\t<tr><td>Cammeo  </td><td>13780</td><td>497.428</td><td>221.7229</td><td> 79.95213</td><td>0.9327226</td><td>14010</td><td>0.5507814</td><td>Cammeo</td></tr>\n",
       "\t<tr><td>Cammeo  </td><td>13047</td><td>486.369</td><td>213.1945</td><td> 79.28887</td><td>0.9282693</td><td>13621</td><td>0.6154245</td><td>Cammeo</td></tr>\n",
       "\t<tr><td>Cammeo  </td><td>15404</td><td>509.517</td><td>217.2976</td><td> 91.39754</td><td>0.9072415</td><td>15696</td><td>0.6337008</td><td>Cammeo</td></tr>\n",
       "\t<tr><td>Cammeo  </td><td>15360</td><td>504.232</td><td>210.3907</td><td> 94.74096</td><td>0.8928725</td><td>15751</td><td>0.7576579</td><td>Cammeo</td></tr>\n",
       "\t<tr><td>Cammeo  </td><td>15224</td><td>510.882</td><td>213.1962</td><td> 92.32341</td><td>0.9013726</td><td>15686</td><td>0.6395295</td><td>Cammeo</td></tr>\n",
       "\t<tr><td>Cammeo  </td><td>14166</td><td>483.705</td><td>204.6273</td><td> 88.99236</td><td>0.9004789</td><td>14412</td><td>0.7660610</td><td>Cammeo</td></tr>\n",
       "\t<tr><td>Osmancik</td><td>12308</td><td>451.609</td><td>193.2675</td><td> 81.65989</td><td>0.9063524</td><td>12488</td><td>0.7240426</td><td>Cammeo</td></tr>\n",
       "\t<tr><td>Cammeo  </td><td>14053</td><td>497.052</td><td>216.1919</td><td> 84.15993</td><td>0.9211180</td><td>14416</td><td>0.8083870</td><td>Cammeo</td></tr>\n",
       "\t<tr><td>Cammeo  </td><td>15809</td><td>518.455</td><td>221.0707</td><td> 92.23230</td><td>0.9088113</td><td>16079</td><td>0.8148129</td><td>Cammeo</td></tr>\n",
       "\t<tr><td>Cammeo  </td><td>13902</td><td>479.232</td><td>201.1149</td><td> 89.12859</td><td>0.8964363</td><td>14202</td><td>0.6986983</td><td>Cammeo</td></tr>\n",
       "\t<tr><td>Cammeo  </td><td>13711</td><td>483.215</td><td>203.8808</td><td> 86.62691</td><td>0.9052449</td><td>14097</td><td>0.5614660</td><td>Cammeo</td></tr>\n",
       "\t<tr><td>Cammeo  </td><td>13302</td><td>482.690</td><td>209.3971</td><td> 81.74891</td><td>0.9206448</td><td>13827</td><td>0.5953276</td><td>Cammeo</td></tr>\n",
       "\t<tr><td>Cammeo  </td><td>14988</td><td>499.355</td><td>212.2620</td><td> 90.98808</td><td>0.9034662</td><td>15245</td><td>0.5886881</td><td>Cammeo</td></tr>\n",
       "\t<tr><td>Cammeo  </td><td>15705</td><td>498.964</td><td>208.5412</td><td> 96.63724</td><td>0.8861511</td><td>16009</td><td>0.7736453</td><td>Cammeo</td></tr>\n",
       "\t<tr><td>Cammeo  </td><td>12047</td><td>455.608</td><td>195.6661</td><td> 80.26914</td><td>0.9119797</td><td>12339</td><td>0.5440300</td><td>Cammeo</td></tr>\n",
       "\t<tr><td>Cammeo  </td><td>13158</td><td>470.996</td><td>201.0184</td><td> 84.50301</td><td>0.9073507</td><td>13462</td><td>0.6197833</td><td>Cammeo</td></tr>\n",
       "\t<tr><td>Cammeo  </td><td>13645</td><td>484.325</td><td>205.5390</td><td> 85.92193</td><td>0.9084322</td><td>13972</td><td>0.5471350</td><td>Cammeo</td></tr>\n",
       "\t<tr><td>Cammeo  </td><td>14022</td><td>483.019</td><td>204.4830</td><td> 88.56927</td><td>0.9013278</td><td>14358</td><td>0.7047294</td><td>Cammeo</td></tr>\n",
       "\t<tr><td>Cammeo  </td><td>14641</td><td>505.002</td><td>211.5836</td><td> 90.03343</td><td>0.9049482</td><td>15034</td><td>0.6295580</td><td>Cammeo</td></tr>\n",
       "\t<tr><td>Cammeo  </td><td>15216</td><td>500.368</td><td>208.2284</td><td> 94.30258</td><td>0.8915712</td><td>15558</td><td>0.5730426</td><td>Cammeo</td></tr>\n",
       "\t<tr><td>⋮</td><td>⋮</td><td>⋮</td><td>⋮</td><td>⋮</td><td>⋮</td><td>⋮</td><td>⋮</td><td>⋮</td></tr>\n",
       "\t<tr><td>Osmancik</td><td>11332</td><td>427.324</td><td>175.5406</td><td>83.60845</td><td>0.8792875</td><td>11563</td><td>0.5954182</td><td>Osmancik</td></tr>\n",
       "\t<tr><td>Cammeo  </td><td>11619</td><td>447.317</td><td>193.1209</td><td>77.05213</td><td>0.9169579</td><td>11811</td><td>0.6645504</td><td>Osmancik</td></tr>\n",
       "\t<tr><td>Osmancik</td><td>10692</td><td>410.253</td><td>170.1792</td><td>80.28889</td><td>0.8817109</td><td>10863</td><td>0.6307964</td><td>Osmancik</td></tr>\n",
       "\t<tr><td>Osmancik</td><td>10600</td><td>429.511</td><td>182.3061</td><td>75.09999</td><td>0.9112089</td><td>10829</td><td>0.7221692</td><td>Osmancik</td></tr>\n",
       "\t<tr><td>Osmancik</td><td>11327</td><td>422.685</td><td>175.8531</td><td>82.81971</td><td>0.8821547</td><td>11475</td><td>0.5963148</td><td>Osmancik</td></tr>\n",
       "\t<tr><td>Osmancik</td><td>11287</td><td>429.325</td><td>171.8957</td><td>85.36037</td><td>0.8679897</td><td>11599</td><td>0.5901391</td><td>Osmancik</td></tr>\n",
       "\t<tr><td>Osmancik</td><td>13032</td><td>459.631</td><td>186.4735</td><td>90.25482</td><td>0.8750631</td><td>13247</td><td>0.8004914</td><td>Osmancik</td></tr>\n",
       "\t<tr><td>Osmancik</td><td>13446</td><td>461.439</td><td>188.9830</td><td>91.78732</td><td>0.8741306</td><td>13643</td><td>0.5985577</td><td>Osmancik</td></tr>\n",
       "\t<tr><td>Osmancik</td><td>11621</td><td>444.662</td><td>188.6422</td><td>79.06629</td><td>0.9079245</td><td>11849</td><td>0.6198528</td><td>Osmancik</td></tr>\n",
       "\t<tr><td>Osmancik</td><td>10171</td><td>400.444</td><td>165.2135</td><td>79.21732</td><td>0.8775502</td><td>10339</td><td>0.6233376</td><td>Osmancik</td></tr>\n",
       "\t<tr><td>Osmancik</td><td>11622</td><td>419.566</td><td>167.3071</td><td>89.68018</td><td>0.8442044</td><td>11854</td><td>0.6311159</td><td>Osmancik</td></tr>\n",
       "\t<tr><td>Osmancik</td><td>10913</td><td>427.618</td><td>170.7233</td><td>83.15890</td><td>0.8733476</td><td>11311</td><td>0.6257095</td><td>Osmancik</td></tr>\n",
       "\t<tr><td>Osmancik</td><td>10228</td><td>403.891</td><td>164.9504</td><td>79.70547</td><td>0.8755053</td><td>10475</td><td>0.6497681</td><td>Osmancik</td></tr>\n",
       "\t<tr><td>Osmancik</td><td> 9668</td><td>393.714</td><td>159.5229</td><td>78.49077</td><td>0.8705758</td><td> 9882</td><td>0.6041745</td><td>Osmancik</td></tr>\n",
       "\t<tr><td>Osmancik</td><td>11530</td><td>425.392</td><td>177.0152</td><td>83.92692</td><td>0.8804588</td><td>11686</td><td>0.8081021</td><td>Osmancik</td></tr>\n",
       "\t<tr><td>Osmancik</td><td>12226</td><td>436.223</td><td>178.5448</td><td>87.98953</td><td>0.8701341</td><td>12400</td><td>0.6133855</td><td>Osmancik</td></tr>\n",
       "\t<tr><td>Osmancik</td><td>10025</td><td>400.511</td><td>167.5635</td><td>77.07865</td><td>0.8879207</td><td>10181</td><td>0.5950261</td><td>Osmancik</td></tr>\n",
       "\t<tr><td>Osmancik</td><td> 9711</td><td>396.469</td><td>166.6905</td><td>74.74411</td><td>0.8938327</td><td> 9859</td><td>0.5878329</td><td>Osmancik</td></tr>\n",
       "\t<tr><td>Osmancik</td><td>11860</td><td>427.026</td><td>174.9904</td><td>87.09915</td><td>0.8673282</td><td>12064</td><td>0.6122870</td><td>Osmancik</td></tr>\n",
       "\t<tr><td>Osmancik</td><td>13088</td><td>450.211</td><td>184.7502</td><td>91.24625</td><td>0.8695244</td><td>13266</td><td>0.7992184</td><td>Osmancik</td></tr>\n",
       "\t<tr><td>Osmancik</td><td>11180</td><td>427.708</td><td>174.7035</td><td>82.88113</td><td>0.8803039</td><td>11518</td><td>0.7219424</td><td>Osmancik</td></tr>\n",
       "\t<tr><td>Osmancik</td><td>11351</td><td>417.693</td><td>171.0511</td><td>85.54869</td><td>0.8659472</td><td>11549</td><td>0.7432556</td><td>Osmancik</td></tr>\n",
       "\t<tr><td>Osmancik</td><td>11889</td><td>439.989</td><td>186.1078</td><td>82.14304</td><td>0.8973235</td><td>12096</td><td>0.7977053</td><td>Osmancik</td></tr>\n",
       "\t<tr><td>Cammeo  </td><td>13626</td><td>469.343</td><td>191.3802</td><td>92.17392</td><td>0.8763762</td><td>13931</td><td>0.6072193</td><td>Osmancik</td></tr>\n",
       "\t<tr><td>Osmancik</td><td>12159</td><td>437.823</td><td>177.5845</td><td>88.58030</td><td>0.8667134</td><td>12377</td><td>0.6701389</td><td>Osmancik</td></tr>\n",
       "\t<tr><td>Osmancik</td><td>12269</td><td>436.012</td><td>177.8848</td><td>88.84811</td><td>0.8663311</td><td>12466</td><td>0.7458358</td><td>Osmancik</td></tr>\n",
       "\t<tr><td>Osmancik</td><td>11140</td><td>414.365</td><td>170.6498</td><td>83.77877</td><td>0.8711935</td><td>11280</td><td>0.6077468</td><td>Osmancik</td></tr>\n",
       "\t<tr><td>Osmancik</td><td> 9405</td><td>389.775</td><td>162.3682</td><td>74.43763</td><td>0.8887205</td><td> 9594</td><td>0.6076366</td><td>Osmancik</td></tr>\n",
       "\t<tr><td>Osmancik</td><td>11441</td><td>415.858</td><td>170.4868</td><td>85.75659</td><td>0.8642805</td><td>11628</td><td>0.6810119</td><td>Osmancik</td></tr>\n",
       "\t<tr><td>Osmancik</td><td>11434</td><td>404.710</td><td>161.0793</td><td>90.86819</td><td>0.8256922</td><td>11591</td><td>0.8029494</td><td>Osmancik</td></tr>\n",
       "</tbody>\n",
       "</table>\n"
      ],
      "text/latex": [
       "A tibble: 952 × 9\n",
       "\\begin{tabular}{lllllllll}\n",
       " .pred\\_class & AREA & PERIMETER & MAJORAXIS & MINORAXIS & ECCENTRICITY & CONVEX\\_AREA & EXTENT & CLASS\\\\\n",
       " <fct> & <dbl> & <dbl> & <dbl> & <dbl> & <dbl> & <dbl> & <dbl> & <fct>\\\\\n",
       "\\hline\n",
       "\t Cammeo   & 14688 & 507.167 & 211.7434 &  89.31245 & 0.9066909 & 15262 & 0.6460239 & Cammeo\\\\\n",
       "\t Cammeo   & 13500 & 476.915 & 202.5467 &  85.40547 & 0.9067549 & 13800 & 0.7177033 & Cammeo\\\\\n",
       "\t Cammeo   & 13509 & 480.466 & 207.1372 &  83.94016 & 0.9142106 & 13732 & 0.5956349 & Cammeo\\\\\n",
       "\t Cammeo   & 13699 & 480.729 & 197.9709 &  89.94907 & 0.8908207 & 14178 & 0.6720467 & Cammeo\\\\\n",
       "\t Cammeo   & 14405 & 488.237 & 204.4301 &  90.62646 & 0.8963671 & 14742 & 0.7637858 & Cammeo\\\\\n",
       "\t Cammeo   & 13328 & 473.044 & 201.3989 &  85.25861 & 0.9059746 & 13588 & 0.7800995 & Cammeo\\\\\n",
       "\t Cammeo   & 13130 & 467.922 & 196.1468 &  86.20712 & 0.8982411 & 13462 & 0.5748183 & Cammeo\\\\\n",
       "\t Cammeo   & 16104 & 507.429 & 206.0707 & 100.75363 & 0.8723245 & 16457 & 0.6054136 & Cammeo\\\\\n",
       "\t Cammeo   & 14415 & 488.122 & 203.5928 &  91.03473 & 0.8944634 & 14758 & 0.6741021 & Cammeo\\\\\n",
       "\t Cammeo   & 14524 & 480.212 & 199.9330 &  93.31210 & 0.8844068 & 14808 & 0.6112795 & Cammeo\\\\\n",
       "\t Cammeo   & 13780 & 497.428 & 221.7229 &  79.95213 & 0.9327226 & 14010 & 0.5507814 & Cammeo\\\\\n",
       "\t Cammeo   & 13047 & 486.369 & 213.1945 &  79.28887 & 0.9282693 & 13621 & 0.6154245 & Cammeo\\\\\n",
       "\t Cammeo   & 15404 & 509.517 & 217.2976 &  91.39754 & 0.9072415 & 15696 & 0.6337008 & Cammeo\\\\\n",
       "\t Cammeo   & 15360 & 504.232 & 210.3907 &  94.74096 & 0.8928725 & 15751 & 0.7576579 & Cammeo\\\\\n",
       "\t Cammeo   & 15224 & 510.882 & 213.1962 &  92.32341 & 0.9013726 & 15686 & 0.6395295 & Cammeo\\\\\n",
       "\t Cammeo   & 14166 & 483.705 & 204.6273 &  88.99236 & 0.9004789 & 14412 & 0.7660610 & Cammeo\\\\\n",
       "\t Osmancik & 12308 & 451.609 & 193.2675 &  81.65989 & 0.9063524 & 12488 & 0.7240426 & Cammeo\\\\\n",
       "\t Cammeo   & 14053 & 497.052 & 216.1919 &  84.15993 & 0.9211180 & 14416 & 0.8083870 & Cammeo\\\\\n",
       "\t Cammeo   & 15809 & 518.455 & 221.0707 &  92.23230 & 0.9088113 & 16079 & 0.8148129 & Cammeo\\\\\n",
       "\t Cammeo   & 13902 & 479.232 & 201.1149 &  89.12859 & 0.8964363 & 14202 & 0.6986983 & Cammeo\\\\\n",
       "\t Cammeo   & 13711 & 483.215 & 203.8808 &  86.62691 & 0.9052449 & 14097 & 0.5614660 & Cammeo\\\\\n",
       "\t Cammeo   & 13302 & 482.690 & 209.3971 &  81.74891 & 0.9206448 & 13827 & 0.5953276 & Cammeo\\\\\n",
       "\t Cammeo   & 14988 & 499.355 & 212.2620 &  90.98808 & 0.9034662 & 15245 & 0.5886881 & Cammeo\\\\\n",
       "\t Cammeo   & 15705 & 498.964 & 208.5412 &  96.63724 & 0.8861511 & 16009 & 0.7736453 & Cammeo\\\\\n",
       "\t Cammeo   & 12047 & 455.608 & 195.6661 &  80.26914 & 0.9119797 & 12339 & 0.5440300 & Cammeo\\\\\n",
       "\t Cammeo   & 13158 & 470.996 & 201.0184 &  84.50301 & 0.9073507 & 13462 & 0.6197833 & Cammeo\\\\\n",
       "\t Cammeo   & 13645 & 484.325 & 205.5390 &  85.92193 & 0.9084322 & 13972 & 0.5471350 & Cammeo\\\\\n",
       "\t Cammeo   & 14022 & 483.019 & 204.4830 &  88.56927 & 0.9013278 & 14358 & 0.7047294 & Cammeo\\\\\n",
       "\t Cammeo   & 14641 & 505.002 & 211.5836 &  90.03343 & 0.9049482 & 15034 & 0.6295580 & Cammeo\\\\\n",
       "\t Cammeo   & 15216 & 500.368 & 208.2284 &  94.30258 & 0.8915712 & 15558 & 0.5730426 & Cammeo\\\\\n",
       "\t ⋮ & ⋮ & ⋮ & ⋮ & ⋮ & ⋮ & ⋮ & ⋮ & ⋮\\\\\n",
       "\t Osmancik & 11332 & 427.324 & 175.5406 & 83.60845 & 0.8792875 & 11563 & 0.5954182 & Osmancik\\\\\n",
       "\t Cammeo   & 11619 & 447.317 & 193.1209 & 77.05213 & 0.9169579 & 11811 & 0.6645504 & Osmancik\\\\\n",
       "\t Osmancik & 10692 & 410.253 & 170.1792 & 80.28889 & 0.8817109 & 10863 & 0.6307964 & Osmancik\\\\\n",
       "\t Osmancik & 10600 & 429.511 & 182.3061 & 75.09999 & 0.9112089 & 10829 & 0.7221692 & Osmancik\\\\\n",
       "\t Osmancik & 11327 & 422.685 & 175.8531 & 82.81971 & 0.8821547 & 11475 & 0.5963148 & Osmancik\\\\\n",
       "\t Osmancik & 11287 & 429.325 & 171.8957 & 85.36037 & 0.8679897 & 11599 & 0.5901391 & Osmancik\\\\\n",
       "\t Osmancik & 13032 & 459.631 & 186.4735 & 90.25482 & 0.8750631 & 13247 & 0.8004914 & Osmancik\\\\\n",
       "\t Osmancik & 13446 & 461.439 & 188.9830 & 91.78732 & 0.8741306 & 13643 & 0.5985577 & Osmancik\\\\\n",
       "\t Osmancik & 11621 & 444.662 & 188.6422 & 79.06629 & 0.9079245 & 11849 & 0.6198528 & Osmancik\\\\\n",
       "\t Osmancik & 10171 & 400.444 & 165.2135 & 79.21732 & 0.8775502 & 10339 & 0.6233376 & Osmancik\\\\\n",
       "\t Osmancik & 11622 & 419.566 & 167.3071 & 89.68018 & 0.8442044 & 11854 & 0.6311159 & Osmancik\\\\\n",
       "\t Osmancik & 10913 & 427.618 & 170.7233 & 83.15890 & 0.8733476 & 11311 & 0.6257095 & Osmancik\\\\\n",
       "\t Osmancik & 10228 & 403.891 & 164.9504 & 79.70547 & 0.8755053 & 10475 & 0.6497681 & Osmancik\\\\\n",
       "\t Osmancik &  9668 & 393.714 & 159.5229 & 78.49077 & 0.8705758 &  9882 & 0.6041745 & Osmancik\\\\\n",
       "\t Osmancik & 11530 & 425.392 & 177.0152 & 83.92692 & 0.8804588 & 11686 & 0.8081021 & Osmancik\\\\\n",
       "\t Osmancik & 12226 & 436.223 & 178.5448 & 87.98953 & 0.8701341 & 12400 & 0.6133855 & Osmancik\\\\\n",
       "\t Osmancik & 10025 & 400.511 & 167.5635 & 77.07865 & 0.8879207 & 10181 & 0.5950261 & Osmancik\\\\\n",
       "\t Osmancik &  9711 & 396.469 & 166.6905 & 74.74411 & 0.8938327 &  9859 & 0.5878329 & Osmancik\\\\\n",
       "\t Osmancik & 11860 & 427.026 & 174.9904 & 87.09915 & 0.8673282 & 12064 & 0.6122870 & Osmancik\\\\\n",
       "\t Osmancik & 13088 & 450.211 & 184.7502 & 91.24625 & 0.8695244 & 13266 & 0.7992184 & Osmancik\\\\\n",
       "\t Osmancik & 11180 & 427.708 & 174.7035 & 82.88113 & 0.8803039 & 11518 & 0.7219424 & Osmancik\\\\\n",
       "\t Osmancik & 11351 & 417.693 & 171.0511 & 85.54869 & 0.8659472 & 11549 & 0.7432556 & Osmancik\\\\\n",
       "\t Osmancik & 11889 & 439.989 & 186.1078 & 82.14304 & 0.8973235 & 12096 & 0.7977053 & Osmancik\\\\\n",
       "\t Cammeo   & 13626 & 469.343 & 191.3802 & 92.17392 & 0.8763762 & 13931 & 0.6072193 & Osmancik\\\\\n",
       "\t Osmancik & 12159 & 437.823 & 177.5845 & 88.58030 & 0.8667134 & 12377 & 0.6701389 & Osmancik\\\\\n",
       "\t Osmancik & 12269 & 436.012 & 177.8848 & 88.84811 & 0.8663311 & 12466 & 0.7458358 & Osmancik\\\\\n",
       "\t Osmancik & 11140 & 414.365 & 170.6498 & 83.77877 & 0.8711935 & 11280 & 0.6077468 & Osmancik\\\\\n",
       "\t Osmancik &  9405 & 389.775 & 162.3682 & 74.43763 & 0.8887205 &  9594 & 0.6076366 & Osmancik\\\\\n",
       "\t Osmancik & 11441 & 415.858 & 170.4868 & 85.75659 & 0.8642805 & 11628 & 0.6810119 & Osmancik\\\\\n",
       "\t Osmancik & 11434 & 404.710 & 161.0793 & 90.86819 & 0.8256922 & 11591 & 0.8029494 & Osmancik\\\\\n",
       "\\end{tabular}\n"
      ],
      "text/markdown": [
       "\n",
       "A tibble: 952 × 9\n",
       "\n",
       "| .pred_class &lt;fct&gt; | AREA &lt;dbl&gt; | PERIMETER &lt;dbl&gt; | MAJORAXIS &lt;dbl&gt; | MINORAXIS &lt;dbl&gt; | ECCENTRICITY &lt;dbl&gt; | CONVEX_AREA &lt;dbl&gt; | EXTENT &lt;dbl&gt; | CLASS &lt;fct&gt; |\n",
       "|---|---|---|---|---|---|---|---|---|\n",
       "| Cammeo   | 14688 | 507.167 | 211.7434 |  89.31245 | 0.9066909 | 15262 | 0.6460239 | Cammeo |\n",
       "| Cammeo   | 13500 | 476.915 | 202.5467 |  85.40547 | 0.9067549 | 13800 | 0.7177033 | Cammeo |\n",
       "| Cammeo   | 13509 | 480.466 | 207.1372 |  83.94016 | 0.9142106 | 13732 | 0.5956349 | Cammeo |\n",
       "| Cammeo   | 13699 | 480.729 | 197.9709 |  89.94907 | 0.8908207 | 14178 | 0.6720467 | Cammeo |\n",
       "| Cammeo   | 14405 | 488.237 | 204.4301 |  90.62646 | 0.8963671 | 14742 | 0.7637858 | Cammeo |\n",
       "| Cammeo   | 13328 | 473.044 | 201.3989 |  85.25861 | 0.9059746 | 13588 | 0.7800995 | Cammeo |\n",
       "| Cammeo   | 13130 | 467.922 | 196.1468 |  86.20712 | 0.8982411 | 13462 | 0.5748183 | Cammeo |\n",
       "| Cammeo   | 16104 | 507.429 | 206.0707 | 100.75363 | 0.8723245 | 16457 | 0.6054136 | Cammeo |\n",
       "| Cammeo   | 14415 | 488.122 | 203.5928 |  91.03473 | 0.8944634 | 14758 | 0.6741021 | Cammeo |\n",
       "| Cammeo   | 14524 | 480.212 | 199.9330 |  93.31210 | 0.8844068 | 14808 | 0.6112795 | Cammeo |\n",
       "| Cammeo   | 13780 | 497.428 | 221.7229 |  79.95213 | 0.9327226 | 14010 | 0.5507814 | Cammeo |\n",
       "| Cammeo   | 13047 | 486.369 | 213.1945 |  79.28887 | 0.9282693 | 13621 | 0.6154245 | Cammeo |\n",
       "| Cammeo   | 15404 | 509.517 | 217.2976 |  91.39754 | 0.9072415 | 15696 | 0.6337008 | Cammeo |\n",
       "| Cammeo   | 15360 | 504.232 | 210.3907 |  94.74096 | 0.8928725 | 15751 | 0.7576579 | Cammeo |\n",
       "| Cammeo   | 15224 | 510.882 | 213.1962 |  92.32341 | 0.9013726 | 15686 | 0.6395295 | Cammeo |\n",
       "| Cammeo   | 14166 | 483.705 | 204.6273 |  88.99236 | 0.9004789 | 14412 | 0.7660610 | Cammeo |\n",
       "| Osmancik | 12308 | 451.609 | 193.2675 |  81.65989 | 0.9063524 | 12488 | 0.7240426 | Cammeo |\n",
       "| Cammeo   | 14053 | 497.052 | 216.1919 |  84.15993 | 0.9211180 | 14416 | 0.8083870 | Cammeo |\n",
       "| Cammeo   | 15809 | 518.455 | 221.0707 |  92.23230 | 0.9088113 | 16079 | 0.8148129 | Cammeo |\n",
       "| Cammeo   | 13902 | 479.232 | 201.1149 |  89.12859 | 0.8964363 | 14202 | 0.6986983 | Cammeo |\n",
       "| Cammeo   | 13711 | 483.215 | 203.8808 |  86.62691 | 0.9052449 | 14097 | 0.5614660 | Cammeo |\n",
       "| Cammeo   | 13302 | 482.690 | 209.3971 |  81.74891 | 0.9206448 | 13827 | 0.5953276 | Cammeo |\n",
       "| Cammeo   | 14988 | 499.355 | 212.2620 |  90.98808 | 0.9034662 | 15245 | 0.5886881 | Cammeo |\n",
       "| Cammeo   | 15705 | 498.964 | 208.5412 |  96.63724 | 0.8861511 | 16009 | 0.7736453 | Cammeo |\n",
       "| Cammeo   | 12047 | 455.608 | 195.6661 |  80.26914 | 0.9119797 | 12339 | 0.5440300 | Cammeo |\n",
       "| Cammeo   | 13158 | 470.996 | 201.0184 |  84.50301 | 0.9073507 | 13462 | 0.6197833 | Cammeo |\n",
       "| Cammeo   | 13645 | 484.325 | 205.5390 |  85.92193 | 0.9084322 | 13972 | 0.5471350 | Cammeo |\n",
       "| Cammeo   | 14022 | 483.019 | 204.4830 |  88.56927 | 0.9013278 | 14358 | 0.7047294 | Cammeo |\n",
       "| Cammeo   | 14641 | 505.002 | 211.5836 |  90.03343 | 0.9049482 | 15034 | 0.6295580 | Cammeo |\n",
       "| Cammeo   | 15216 | 500.368 | 208.2284 |  94.30258 | 0.8915712 | 15558 | 0.5730426 | Cammeo |\n",
       "| ⋮ | ⋮ | ⋮ | ⋮ | ⋮ | ⋮ | ⋮ | ⋮ | ⋮ |\n",
       "| Osmancik | 11332 | 427.324 | 175.5406 | 83.60845 | 0.8792875 | 11563 | 0.5954182 | Osmancik |\n",
       "| Cammeo   | 11619 | 447.317 | 193.1209 | 77.05213 | 0.9169579 | 11811 | 0.6645504 | Osmancik |\n",
       "| Osmancik | 10692 | 410.253 | 170.1792 | 80.28889 | 0.8817109 | 10863 | 0.6307964 | Osmancik |\n",
       "| Osmancik | 10600 | 429.511 | 182.3061 | 75.09999 | 0.9112089 | 10829 | 0.7221692 | Osmancik |\n",
       "| Osmancik | 11327 | 422.685 | 175.8531 | 82.81971 | 0.8821547 | 11475 | 0.5963148 | Osmancik |\n",
       "| Osmancik | 11287 | 429.325 | 171.8957 | 85.36037 | 0.8679897 | 11599 | 0.5901391 | Osmancik |\n",
       "| Osmancik | 13032 | 459.631 | 186.4735 | 90.25482 | 0.8750631 | 13247 | 0.8004914 | Osmancik |\n",
       "| Osmancik | 13446 | 461.439 | 188.9830 | 91.78732 | 0.8741306 | 13643 | 0.5985577 | Osmancik |\n",
       "| Osmancik | 11621 | 444.662 | 188.6422 | 79.06629 | 0.9079245 | 11849 | 0.6198528 | Osmancik |\n",
       "| Osmancik | 10171 | 400.444 | 165.2135 | 79.21732 | 0.8775502 | 10339 | 0.6233376 | Osmancik |\n",
       "| Osmancik | 11622 | 419.566 | 167.3071 | 89.68018 | 0.8442044 | 11854 | 0.6311159 | Osmancik |\n",
       "| Osmancik | 10913 | 427.618 | 170.7233 | 83.15890 | 0.8733476 | 11311 | 0.6257095 | Osmancik |\n",
       "| Osmancik | 10228 | 403.891 | 164.9504 | 79.70547 | 0.8755053 | 10475 | 0.6497681 | Osmancik |\n",
       "| Osmancik |  9668 | 393.714 | 159.5229 | 78.49077 | 0.8705758 |  9882 | 0.6041745 | Osmancik |\n",
       "| Osmancik | 11530 | 425.392 | 177.0152 | 83.92692 | 0.8804588 | 11686 | 0.8081021 | Osmancik |\n",
       "| Osmancik | 12226 | 436.223 | 178.5448 | 87.98953 | 0.8701341 | 12400 | 0.6133855 | Osmancik |\n",
       "| Osmancik | 10025 | 400.511 | 167.5635 | 77.07865 | 0.8879207 | 10181 | 0.5950261 | Osmancik |\n",
       "| Osmancik |  9711 | 396.469 | 166.6905 | 74.74411 | 0.8938327 |  9859 | 0.5878329 | Osmancik |\n",
       "| Osmancik | 11860 | 427.026 | 174.9904 | 87.09915 | 0.8673282 | 12064 | 0.6122870 | Osmancik |\n",
       "| Osmancik | 13088 | 450.211 | 184.7502 | 91.24625 | 0.8695244 | 13266 | 0.7992184 | Osmancik |\n",
       "| Osmancik | 11180 | 427.708 | 174.7035 | 82.88113 | 0.8803039 | 11518 | 0.7219424 | Osmancik |\n",
       "| Osmancik | 11351 | 417.693 | 171.0511 | 85.54869 | 0.8659472 | 11549 | 0.7432556 | Osmancik |\n",
       "| Osmancik | 11889 | 439.989 | 186.1078 | 82.14304 | 0.8973235 | 12096 | 0.7977053 | Osmancik |\n",
       "| Cammeo   | 13626 | 469.343 | 191.3802 | 92.17392 | 0.8763762 | 13931 | 0.6072193 | Osmancik |\n",
       "| Osmancik | 12159 | 437.823 | 177.5845 | 88.58030 | 0.8667134 | 12377 | 0.6701389 | Osmancik |\n",
       "| Osmancik | 12269 | 436.012 | 177.8848 | 88.84811 | 0.8663311 | 12466 | 0.7458358 | Osmancik |\n",
       "| Osmancik | 11140 | 414.365 | 170.6498 | 83.77877 | 0.8711935 | 11280 | 0.6077468 | Osmancik |\n",
       "| Osmancik |  9405 | 389.775 | 162.3682 | 74.43763 | 0.8887205 |  9594 | 0.6076366 | Osmancik |\n",
       "| Osmancik | 11441 | 415.858 | 170.4868 | 85.75659 | 0.8642805 | 11628 | 0.6810119 | Osmancik |\n",
       "| Osmancik | 11434 | 404.710 | 161.0793 | 90.86819 | 0.8256922 | 11591 | 0.8029494 | Osmancik |\n",
       "\n"
      ],
      "text/plain": [
       "    .pred_class AREA  PERIMETER MAJORAXIS MINORAXIS ECCENTRICITY CONVEX_AREA\n",
       "1   Cammeo      14688 507.167   211.7434   89.31245 0.9066909    15262      \n",
       "2   Cammeo      13500 476.915   202.5467   85.40547 0.9067549    13800      \n",
       "3   Cammeo      13509 480.466   207.1372   83.94016 0.9142106    13732      \n",
       "4   Cammeo      13699 480.729   197.9709   89.94907 0.8908207    14178      \n",
       "5   Cammeo      14405 488.237   204.4301   90.62646 0.8963671    14742      \n",
       "6   Cammeo      13328 473.044   201.3989   85.25861 0.9059746    13588      \n",
       "7   Cammeo      13130 467.922   196.1468   86.20712 0.8982411    13462      \n",
       "8   Cammeo      16104 507.429   206.0707  100.75363 0.8723245    16457      \n",
       "9   Cammeo      14415 488.122   203.5928   91.03473 0.8944634    14758      \n",
       "10  Cammeo      14524 480.212   199.9330   93.31210 0.8844068    14808      \n",
       "11  Cammeo      13780 497.428   221.7229   79.95213 0.9327226    14010      \n",
       "12  Cammeo      13047 486.369   213.1945   79.28887 0.9282693    13621      \n",
       "13  Cammeo      15404 509.517   217.2976   91.39754 0.9072415    15696      \n",
       "14  Cammeo      15360 504.232   210.3907   94.74096 0.8928725    15751      \n",
       "15  Cammeo      15224 510.882   213.1962   92.32341 0.9013726    15686      \n",
       "16  Cammeo      14166 483.705   204.6273   88.99236 0.9004789    14412      \n",
       "17  Osmancik    12308 451.609   193.2675   81.65989 0.9063524    12488      \n",
       "18  Cammeo      14053 497.052   216.1919   84.15993 0.9211180    14416      \n",
       "19  Cammeo      15809 518.455   221.0707   92.23230 0.9088113    16079      \n",
       "20  Cammeo      13902 479.232   201.1149   89.12859 0.8964363    14202      \n",
       "21  Cammeo      13711 483.215   203.8808   86.62691 0.9052449    14097      \n",
       "22  Cammeo      13302 482.690   209.3971   81.74891 0.9206448    13827      \n",
       "23  Cammeo      14988 499.355   212.2620   90.98808 0.9034662    15245      \n",
       "24  Cammeo      15705 498.964   208.5412   96.63724 0.8861511    16009      \n",
       "25  Cammeo      12047 455.608   195.6661   80.26914 0.9119797    12339      \n",
       "26  Cammeo      13158 470.996   201.0184   84.50301 0.9073507    13462      \n",
       "27  Cammeo      13645 484.325   205.5390   85.92193 0.9084322    13972      \n",
       "28  Cammeo      14022 483.019   204.4830   88.56927 0.9013278    14358      \n",
       "29  Cammeo      14641 505.002   211.5836   90.03343 0.9049482    15034      \n",
       "30  Cammeo      15216 500.368   208.2284   94.30258 0.8915712    15558      \n",
       "⋮   ⋮           ⋮     ⋮         ⋮         ⋮         ⋮            ⋮          \n",
       "923 Osmancik    11332 427.324   175.5406  83.60845  0.8792875    11563      \n",
       "924 Cammeo      11619 447.317   193.1209  77.05213  0.9169579    11811      \n",
       "925 Osmancik    10692 410.253   170.1792  80.28889  0.8817109    10863      \n",
       "926 Osmancik    10600 429.511   182.3061  75.09999  0.9112089    10829      \n",
       "927 Osmancik    11327 422.685   175.8531  82.81971  0.8821547    11475      \n",
       "928 Osmancik    11287 429.325   171.8957  85.36037  0.8679897    11599      \n",
       "929 Osmancik    13032 459.631   186.4735  90.25482  0.8750631    13247      \n",
       "930 Osmancik    13446 461.439   188.9830  91.78732  0.8741306    13643      \n",
       "931 Osmancik    11621 444.662   188.6422  79.06629  0.9079245    11849      \n",
       "932 Osmancik    10171 400.444   165.2135  79.21732  0.8775502    10339      \n",
       "933 Osmancik    11622 419.566   167.3071  89.68018  0.8442044    11854      \n",
       "934 Osmancik    10913 427.618   170.7233  83.15890  0.8733476    11311      \n",
       "935 Osmancik    10228 403.891   164.9504  79.70547  0.8755053    10475      \n",
       "936 Osmancik     9668 393.714   159.5229  78.49077  0.8705758     9882      \n",
       "937 Osmancik    11530 425.392   177.0152  83.92692  0.8804588    11686      \n",
       "938 Osmancik    12226 436.223   178.5448  87.98953  0.8701341    12400      \n",
       "939 Osmancik    10025 400.511   167.5635  77.07865  0.8879207    10181      \n",
       "940 Osmancik     9711 396.469   166.6905  74.74411  0.8938327     9859      \n",
       "941 Osmancik    11860 427.026   174.9904  87.09915  0.8673282    12064      \n",
       "942 Osmancik    13088 450.211   184.7502  91.24625  0.8695244    13266      \n",
       "943 Osmancik    11180 427.708   174.7035  82.88113  0.8803039    11518      \n",
       "944 Osmancik    11351 417.693   171.0511  85.54869  0.8659472    11549      \n",
       "945 Osmancik    11889 439.989   186.1078  82.14304  0.8973235    12096      \n",
       "946 Cammeo      13626 469.343   191.3802  92.17392  0.8763762    13931      \n",
       "947 Osmancik    12159 437.823   177.5845  88.58030  0.8667134    12377      \n",
       "948 Osmancik    12269 436.012   177.8848  88.84811  0.8663311    12466      \n",
       "949 Osmancik    11140 414.365   170.6498  83.77877  0.8711935    11280      \n",
       "950 Osmancik     9405 389.775   162.3682  74.43763  0.8887205     9594      \n",
       "951 Osmancik    11441 415.858   170.4868  85.75659  0.8642805    11628      \n",
       "952 Osmancik    11434 404.710   161.0793  90.86819  0.8256922    11591      \n",
       "    EXTENT    CLASS   \n",
       "1   0.6460239 Cammeo  \n",
       "2   0.7177033 Cammeo  \n",
       "3   0.5956349 Cammeo  \n",
       "4   0.6720467 Cammeo  \n",
       "5   0.7637858 Cammeo  \n",
       "6   0.7800995 Cammeo  \n",
       "7   0.5748183 Cammeo  \n",
       "8   0.6054136 Cammeo  \n",
       "9   0.6741021 Cammeo  \n",
       "10  0.6112795 Cammeo  \n",
       "11  0.5507814 Cammeo  \n",
       "12  0.6154245 Cammeo  \n",
       "13  0.6337008 Cammeo  \n",
       "14  0.7576579 Cammeo  \n",
       "15  0.6395295 Cammeo  \n",
       "16  0.7660610 Cammeo  \n",
       "17  0.7240426 Cammeo  \n",
       "18  0.8083870 Cammeo  \n",
       "19  0.8148129 Cammeo  \n",
       "20  0.6986983 Cammeo  \n",
       "21  0.5614660 Cammeo  \n",
       "22  0.5953276 Cammeo  \n",
       "23  0.5886881 Cammeo  \n",
       "24  0.7736453 Cammeo  \n",
       "25  0.5440300 Cammeo  \n",
       "26  0.6197833 Cammeo  \n",
       "27  0.5471350 Cammeo  \n",
       "28  0.7047294 Cammeo  \n",
       "29  0.6295580 Cammeo  \n",
       "30  0.5730426 Cammeo  \n",
       "⋮   ⋮         ⋮       \n",
       "923 0.5954182 Osmancik\n",
       "924 0.6645504 Osmancik\n",
       "925 0.6307964 Osmancik\n",
       "926 0.7221692 Osmancik\n",
       "927 0.5963148 Osmancik\n",
       "928 0.5901391 Osmancik\n",
       "929 0.8004914 Osmancik\n",
       "930 0.5985577 Osmancik\n",
       "931 0.6198528 Osmancik\n",
       "932 0.6233376 Osmancik\n",
       "933 0.6311159 Osmancik\n",
       "934 0.6257095 Osmancik\n",
       "935 0.6497681 Osmancik\n",
       "936 0.6041745 Osmancik\n",
       "937 0.8081021 Osmancik\n",
       "938 0.6133855 Osmancik\n",
       "939 0.5950261 Osmancik\n",
       "940 0.5878329 Osmancik\n",
       "941 0.6122870 Osmancik\n",
       "942 0.7992184 Osmancik\n",
       "943 0.7219424 Osmancik\n",
       "944 0.7432556 Osmancik\n",
       "945 0.7977053 Osmancik\n",
       "946 0.6072193 Osmancik\n",
       "947 0.6701389 Osmancik\n",
       "948 0.7458358 Osmancik\n",
       "949 0.6077468 Osmancik\n",
       "950 0.6076366 Osmancik\n",
       "951 0.6810119 Osmancik\n",
       "952 0.8029494 Osmancik"
      ]
     },
     "metadata": {},
     "output_type": "display_data"
    },
    {
     "data": {
      "text/html": [
       "<table>\n",
       "<caption>A tibble: 2 × 3</caption>\n",
       "<thead>\n",
       "\t<tr><th scope=col>.metric</th><th scope=col>.estimator</th><th scope=col>.estimate</th></tr>\n",
       "\t<tr><th scope=col>&lt;chr&gt;</th><th scope=col>&lt;chr&gt;</th><th scope=col>&lt;dbl&gt;</th></tr>\n",
       "</thead>\n",
       "<tbody>\n",
       "\t<tr><td>accuracy</td><td>binary</td><td>0.9264706</td></tr>\n",
       "\t<tr><td>kap     </td><td>binary</td><td>0.8497847</td></tr>\n",
       "</tbody>\n",
       "</table>\n"
      ],
      "text/latex": [
       "A tibble: 2 × 3\n",
       "\\begin{tabular}{lll}\n",
       " .metric & .estimator & .estimate\\\\\n",
       " <chr> & <chr> & <dbl>\\\\\n",
       "\\hline\n",
       "\t accuracy & binary & 0.9264706\\\\\n",
       "\t kap      & binary & 0.8497847\\\\\n",
       "\\end{tabular}\n"
      ],
      "text/markdown": [
       "\n",
       "A tibble: 2 × 3\n",
       "\n",
       "| .metric &lt;chr&gt; | .estimator &lt;chr&gt; | .estimate &lt;dbl&gt; |\n",
       "|---|---|---|\n",
       "| accuracy | binary | 0.9264706 |\n",
       "| kap      | binary | 0.8497847 |\n",
       "\n"
      ],
      "text/plain": [
       "  .metric  .estimator .estimate\n",
       "1 accuracy binary     0.9264706\n",
       "2 kap      binary     0.8497847"
      ]
     },
     "metadata": {},
     "output_type": "display_data"
    },
    {
     "data": {
      "text/html": [
       "<table>\n",
       "<caption>A tibble: 2 × 3</caption>\n",
       "<thead>\n",
       "\t<tr><th scope=col>.metric</th><th scope=col>.estimator</th><th scope=col>.estimate</th></tr>\n",
       "\t<tr><th scope=col>&lt;chr&gt;</th><th scope=col>&lt;chr&gt;</th><th scope=col>&lt;dbl&gt;</th></tr>\n",
       "</thead>\n",
       "<tbody>\n",
       "\t<tr><td>accuracy</td><td>binary</td><td>0.9264706</td></tr>\n",
       "\t<tr><td>kap     </td><td>binary</td><td>0.8497847</td></tr>\n",
       "</tbody>\n",
       "</table>\n"
      ],
      "text/latex": [
       "A tibble: 2 × 3\n",
       "\\begin{tabular}{lll}\n",
       " .metric & .estimator & .estimate\\\\\n",
       " <chr> & <chr> & <dbl>\\\\\n",
       "\\hline\n",
       "\t accuracy & binary & 0.9264706\\\\\n",
       "\t kap      & binary & 0.8497847\\\\\n",
       "\\end{tabular}\n"
      ],
      "text/markdown": [
       "\n",
       "A tibble: 2 × 3\n",
       "\n",
       "| .metric &lt;chr&gt; | .estimator &lt;chr&gt; | .estimate &lt;dbl&gt; |\n",
       "|---|---|---|\n",
       "| accuracy | binary | 0.9264706 |\n",
       "| kap      | binary | 0.8497847 |\n",
       "\n"
      ],
      "text/plain": [
       "  .metric  .estimator .estimate\n",
       "1 accuracy binary     0.9264706\n",
       "2 kap      binary     0.8497847"
      ]
     },
     "metadata": {},
     "output_type": "display_data"
    },
    {
     "data": {
      "text/plain": [
       "          Truth\n",
       "Prediction Cammeo Osmancik\n",
       "  Cammeo      372       35\n",
       "  Osmancik     35      510"
      ]
     },
     "metadata": {},
     "output_type": "display_data"
    }
   ],
   "source": [
    "set.seed(seed)\n",
    "\n",
    "knn_spec <- nearest_neighbor(weight_func = \"rectangular\", neighbors = 12) %>%\n",
    "       set_engine(\"kknn\") %>%\n",
    "       set_mode(\"classification\")\n",
    "                             \n",
    "rice_fit <- workflow() %>%\n",
    "       add_recipe(rice_recipe) %>%\n",
    "       add_model(knn_spec) %>%\n",
    "       fit(data = rice_train)\n",
    "\n",
    "rice_test_predictions <- predict(rice_fit, rice_test) %>%\n",
    "       bind_cols(rice_test)\n",
    "rice_test_predictions\n",
    "\n",
    "rice_metrics <- rice_test_predictions %>%\n",
    "         metrics(truth = CLASS, estimate = .pred_class) \n",
    "rice_metrics\n",
    "\n",
    "\n",
    "rice_prediction_accuracy <- rice_test_predictions %>%\n",
    "         metrics(truth = CLASS, estimate = .pred_class)  \n",
    "rice_prediction_accuracy\n",
    "\n",
    "rice_mat <- rice_test_predictions %>% \n",
    "       conf_mat(truth = CLASS, estimate = .pred_class)\n",
    "rice_mat"
   ]
  },
  {
   "cell_type": "markdown",
   "metadata": {},
   "source": [
    "Our resulting accuracy is 0.92."
   ]
  },
  {
   "cell_type": "markdown",
   "metadata": {},
   "source": [
    "## Methods\n",
    "We will conduct our data analysis using the variables Major Axis Length and Eccentricity since the ggpairs plot showed that these two variables allow us to easily distinguish between the Cammeo and Osmancik data clusters. Other variables such as extent make it harder to diffrentiate between the two rices and thus would make for good predictor variables. We can visualize the data by using a facet_grid function or by making a graph with low alpha level. For both these graphs we can colour by the class of rice."
   ]
  },
  {
   "cell_type": "markdown",
   "metadata": {},
   "source": [
    "## Expected outcomes and significance\n",
    "We expect to find that our predictions will be mostly accurate as shown in this project proposal. ???"
   ]
  }
 ],
 "metadata": {
  "kernelspec": {
   "display_name": "R",
   "language": "R",
   "name": "ir"
  },
  "language_info": {
   "codemirror_mode": "r",
   "file_extension": ".r",
   "mimetype": "text/x-r-source",
   "name": "R",
   "pygments_lexer": "r",
   "version": "4.0.0"
  }
 },
 "nbformat": 4,
 "nbformat_minor": 4
}
